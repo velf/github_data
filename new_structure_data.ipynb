{
 "cells": [
  {
   "cell_type": "code",
   "execution_count": 1,
   "metadata": {
    "collapsed": false
   },
   "outputs": [],
   "source": [
    "import os\n",
    "from collections import defaultdict, Counter\n",
    "from emailtome import noticeEMail\n",
    "import urllib, json\n",
    "import emailtome\n",
    "import datetime"
   ]
  },
  {
   "cell_type": "code",
   "execution_count": 2,
   "metadata": {
    "collapsed": true
   },
   "outputs": [],
   "source": [
    "def get_user_data(event, user_data): #newest bio available from pushes, containning username,avatar url, gravatar_id, e-mail adress and real name\n",
    "    user_data=defaultdict(dict)\n",
    "    if 'payload' in event.keys():\n",
    "        if 'shas' in event['payload'].keys() and len(event['payload']['shas']):\n",
    "            if len(event['payload']['shas'][0])>=1:\n",
    "                name=event['payload']['shas'][0][-1]\n",
    "                e_mail=event['payload']['shas'][0][1]\n",
    "        else:\n",
    "            name='Nan'\n",
    "            e_mail='Nan' \n",
    "    else:\n",
    "            name='Nan'\n",
    "            e_mail='Nan' \n",
    "\n",
    "    if 'actor' in event.keys(): \n",
    "        if 'id' in event['actor'].keys():\n",
    "            user_data[event['actor']['id']]={'username':event['actor']['login'],\n",
    "                                         'e-mail_adress': e_mail,\n",
    "                                         'name':name}\n",
    "    elif 'user_attributes' in event.keys():\n",
    "        user_data[event['user']]\n",
    "    return user_data"
   ]
  },
  {
   "cell_type": "code",
   "execution_count": 3,
   "metadata": {
    "collapsed": false
   },
   "outputs": [],
   "source": [
    "def read_aggr_file(p, directory, filename, et): #aggregate the data and generates user based json files\n",
    "    pres=[]\n",
    "    with open(os.path.join(directory,filename), 'r') as myfile:\n",
    "        data=myfile.read()\n",
    "    #print 'opened the file'\n",
    "    lines=data.splitlines()\n",
    "    for i in range(0, 1000):\n",
    "        event=json.loads(lines[i].strip())\n",
    "        #print event.keys()\n",
    "        #types.add(event['type'])\n",
    "        if event['type']==et:\n",
    "            PRE=event\n",
    "            return PRE"
   ]
  },
  {
   "cell_type": "code",
   "execution_count": 7,
   "metadata": {
    "collapsed": false
   },
   "outputs": [],
   "source": [
    "pullreq=read_aggr_file('', '', 'githubarchive_2015-12-29.json', 'PullRequestEvent')"
   ]
  },
  {
   "cell_type": "code",
   "execution_count": 18,
   "metadata": {
    "collapsed": false
   },
   "outputs": [
    {
     "data": {
      "text/plain": [
       "{u'avatar_url': u'https://avatars.githubusercontent.com/u/6241262?',\n",
       " u'gravatar_id': u'',\n",
       " u'id': 6241262,\n",
       " u'login': u'DrupalRu',\n",
       " u'url': u'https://api.github.com/orgs/DrupalRu'}"
      ]
     },
     "execution_count": 18,
     "metadata": {},
     "output_type": "execute_result"
    }
   ],
   "source": [
    "pullreq['org']"
   ]
  },
  {
   "cell_type": "code",
   "execution_count": 22,
   "metadata": {
    "collapsed": true
   },
   "outputs": [],
   "source": [
    "membership=read_aggr_file('', '', 'githubarchive_2015-12-29.json', 'MembershipEvent')"
   ]
  },
  {
   "cell_type": "code",
   "execution_count": 23,
   "metadata": {
    "collapsed": false
   },
   "outputs": [],
   "source": [
    "membership"
   ]
  },
  {
   "cell_type": "code",
   "execution_count": 5,
   "metadata": {
    "collapsed": false
   },
   "outputs": [
    {
     "ename": "AttributeError",
     "evalue": "'NoneType' object has no attribute 'keys'",
     "output_type": "error",
     "traceback": [
      "\u001b[0;31m---------------------------------------------------------------------------\u001b[0m",
      "\u001b[0;31mAttributeError\u001b[0m                            Traceback (most recent call last)",
      "\u001b[0;32m<ipython-input-5-514a84d88429>\u001b[0m in \u001b[0;36m<module>\u001b[0;34m()\u001b[0m\n\u001b[1;32m      1\u001b[0m \u001b[0;31m#push['payload']['forkee']['stargazers_count']\u001b[0m\u001b[0;34m\u001b[0m\u001b[0;34m\u001b[0m\u001b[0m\n\u001b[1;32m      2\u001b[0m \u001b[0;31m#push['payload']['forkee']['watchers_count']\u001b[0m\u001b[0;34m\u001b[0m\u001b[0;34m\u001b[0m\u001b[0m\n\u001b[0;32m----> 3\u001b[0;31m \u001b[0mpullreq\u001b[0m\u001b[0;34m.\u001b[0m\u001b[0mkeys\u001b[0m\u001b[0;34m(\u001b[0m\u001b[0;34m)\u001b[0m\u001b[0;34m\u001b[0m\u001b[0m\n\u001b[0m",
      "\u001b[0;31mAttributeError\u001b[0m: 'NoneType' object has no attribute 'keys'"
     ]
    }
   ],
   "source": [
    "#push['payload']['forkee']['stargazers_count']\n",
    "#push['payload']['forkee']['watchers_count']\n"
   ]
  },
  {
   "cell_type": "code",
   "execution_count": 269,
   "metadata": {
    "collapsed": false
   },
   "outputs": [
    {
     "data": {
      "text/plain": [
       "'{project_id: {pull_requests_merged: {date: count},\\n                pull_requests_non_merged: {date: count},\\n                pushes: {date: count},\\n                pulls: {date: count},\\n                forks: {date: count},\\n                fork_apply: {date: count},\\n                watches: {date: count},\\n                stars: {date: count},\\n                follow: {date: count}'"
      ]
     },
     "execution_count": 269,
     "metadata": {},
     "output_type": "execute_result"
    }
   ],
   "source": [
    "users_attributes=defaultdict(dict)\n",
    "\"\"\"{user_id: {name: 'name', e-mail: 'e_mail', user_name:'username'}}\"\"\"\n",
    "users_popularity_by_month={}\n",
    "\"\"\"{user_id: {month_yeari: number_of_followers}}\"\"\"\n",
    "users_projects_by_date=defaultdict(dict)\n",
    "\"\"\"{user_id: {project1_id: date: count\"\"\"\n",
    "projects=defaultdict(dict) \n",
    "#Brings back the following dictionary:\n",
    "\"\"\"{project_id: {pull_requests_merged: {date: count},\n",
    "                pull_requests_non_merged: {date: count},\n",
    "                pushes: {date: count},\n",
    "                forks: {date: count},\n",
    "                watches: {date: count},\n",
    "                stars: {date: count}\"\"\"\n"
   ]
  },
  {
   "cell_type": "code",
   "execution_count": 81,
   "metadata": {
    "collapsed": false
   },
   "outputs": [],
   "source": [
    "def date_from_filename(fname):\n",
    "    dt = datetime.datetime.strptime(fname[len('githubarchive_'):-len('.json')], '%Y-%m-%d')\n",
    "    return dt.strftime('%Y-%m')"
   ]
  },
  {
   "cell_type": "code",
   "execution_count": 80,
   "metadata": {
    "collapsed": false
   },
   "outputs": [],
   "source": [
    "def date_from_json(creation_date):\n",
    "    dt = datetime.datetime.strptime(creation_date[:10], '%Y-%m-%d')\n",
    "    return dt.strftime('%Y-%m')"
   ]
  },
  {
   "cell_type": "code",
   "execution_count": 41,
   "metadata": {
    "collapsed": false
   },
   "outputs": [],
   "source": [
    "def url_to_json(link):\n",
    "    url = link\n",
    "    response = urllib.urlopen(url)\n",
    "    data = json.loads(response.read())\n",
    "    return data"
   ]
  },
  {
   "cell_type": "code",
   "execution_count": 175,
   "metadata": {
    "collapsed": false
   },
   "outputs": [],
   "source": [
    "def parse(event, date_f, merging_matter):\n",
    "    #print event['type']\n",
    "    if type(event)==dict:\n",
    "        if 'repo' in event.keys(): \n",
    "            #print'k'\n",
    "            if 'id' in event['repo'].keys():\n",
    "                #print 'id in repo'\n",
    "                if merging_matter==False:\n",
    "                    d=date_f\n",
    "                    if 'user' in event.keys():\n",
    "                        if event['user']['type']=='User':\n",
    "                            u=event['user']['login']\n",
    "                            p=event['repo']['id']\n",
    "                            return (u, p, d)\n",
    "                    elif 'actor' in event.keys():\n",
    "                        if 'login' in event['actor'].keys():\n",
    "                            u=event['actor']['login']\n",
    "                            p=event['repo']['id']\n",
    "                            return (u, p, d)\n",
    "                        elif 'payload' in event.keys():\n",
    "                            if 'actor' in event['payload'].keys():\n",
    "                                u=event['payload']['actor']\n",
    "                                p=event['repo']['id']\n",
    "                                return (u, p, d)\n",
    "                elif merging_matter==True:\n",
    "                    d=date_from_json(event['payload']['pull_request']['created_at'][:10])\n",
    "                    #print d\n",
    "                    if 'user' in event.keys():\n",
    "                        #print event.keys()\n",
    "                        if event['user']['type']=='User':\n",
    "                            u=event['user']['login']\n",
    "                            p=event['repo']['id']\n",
    "                            return (u, p, d)      \n",
    "                    elif 'actor' in event.keys():\n",
    "                        u=event['actor']['login']\n",
    "                        p=event['repo']['id']\n",
    "                        return (u, p, d)\n",
    "            else:\n",
    "                return ('error' ,_,_)\n",
    "        elif 'repository' in event.keys():\n",
    "            u=event['actor']\n",
    "            p=event['repository']['id']\n",
    "            d=date_f\n",
    "            return (u, p, d)\n",
    "        else:\n",
    "            return ('error' ,_,_)\n",
    "        "
   ]
  },
  {
   "cell_type": "code",
   "execution_count": 174,
   "metadata": {
    "collapsed": false
   },
   "outputs": [
    {
     "data": {
      "text/plain": [
       "{u'actor': u'johnwtest',\n",
       " u'actor_attributes': {u'gravatar_id': u'7cf7e233fd1a5e041fd42252621eeafc',\n",
       "  u'login': u'johnwtest',\n",
       "  u'type': u'User'},\n",
       " u'created_at': u'2013-02-27T00:35:09-08:00',\n",
       " u'payload': {u'head': u'2c4b43654cdd4a9ca74fb4530a8418ad84631703',\n",
       "  u'ref': u'refs/heads/master',\n",
       "  u'shas': [[u'8fe9c142aeba4f035cffd1849b89e448374ca8d0',\n",
       "    u'user1@email.org',\n",
       "    u'Initial commit',\n",
       "    u'First Name',\n",
       "    True],\n",
       "   [u'2c4b43654cdd4a9ca74fb4530a8418ad84631703',\n",
       "    u'user1@email.org',\n",
       "    u'This is another log message.',\n",
       "    u'First Name',\n",
       "    True]],\n",
       "  u'size': 2},\n",
       " u'public': True,\n",
       " u'type': u'PushEvent',\n",
       " u'url': u'https://github.com/johnwtest/smallTest1/compare/9052552c85...2c4b43654c'}"
      ]
     },
     "execution_count": 174,
     "metadata": {},
     "output_type": "execute_result"
    }
   ],
   "source": [
    "last_event"
   ]
  },
  {
   "cell_type": "code",
   "execution_count": 43,
   "metadata": {
    "collapsed": true
   },
   "outputs": [],
   "source": [
    "#returns user, project, date, number of commits pushed\n",
    "def parse_number_of_pushed_commits(event, date_f):\n",
    "    u,p,d=parse_push(event, date_f)\n",
    "    c=len(event['payload']['commits'])\n",
    "    return(u,p,d,c)"
   ]
  },
  {
   "cell_type": "code",
   "execution_count": 151,
   "metadata": {
    "collapsed": false
   },
   "outputs": [],
   "source": [
    "def parse_follow_event(event):\n",
    "    if type(event['actor'])==dict:\n",
    "        f=event['payload']['actor']\n",
    "        t=event['payload']['target']['login']\n",
    "    else:\n",
    "        f=event['actor']\n",
    "        t=event['payload']['target']['login']\n",
    "    return (f,t)"
   ]
  },
  {
   "cell_type": "code",
   "execution_count": 126,
   "metadata": {
    "collapsed": true
   },
   "outputs": [],
   "source": [
    "def parse_membership_event(event):\n",
    "    u=event['actor']['login']\n",
    "    o=event['org']['login']\n",
    "    a=event['payload']['action']\n",
    "    return (u,o,a) "
   ]
  },
  {
   "cell_type": "code",
   "execution_count": 230,
   "metadata": {
    "collapsed": false
   },
   "outputs": [],
   "source": [
    "def parse_member_event(event):\n",
    "    if 'repo' not in event.keys():\n",
    "        u=event['actor']\n",
    "        r=event['repository']['name']\n",
    "        o=event['repository']['owner']\n",
    "        a=event['payload']['action']\n",
    "        return (u,r,o,a) \n",
    "    elif type(event['payload']['member'])==dict:\n",
    "        u=event['payload']['member']['login']\n",
    "        r=event['repo']['name']\n",
    "        o=event['actor']['login']\n",
    "        a=event['payload']['action']\n",
    "    else:\n",
    "        u=event['payload']['member']\n",
    "        r=event['repo']['name']\n",
    "        o=event['payload']['actor']\n",
    "        a=event['payload']['action']\n",
    "        return (u,r,o,a)         "
   ]
  },
  {
   "cell_type": "code",
   "execution_count": 243,
   "metadata": {
    "collapsed": true
   },
   "outputs": [],
   "source": [
    "def get_projects_dict(all_projects, user, project, date, eventt):\n",
    "    if project not in all_projects.keys():\n",
    "        events=defaultdict(dict)\n",
    "        users=defaultdict(dict)\n",
    "        dates=defaultdict(dict)\n",
    "        dates[date]=1\n",
    "        users[user]=dates\n",
    "        events[eventt]=users\n",
    "        all_projects[project]=events\n",
    "        return all_projects\n",
    "    elif eventt not in all_projects[project].keys():\n",
    "        users=defaultdict(dict)\n",
    "        dates=defaultdict(dict)\n",
    "        dates[date]=1\n",
    "        users[user]=dates\n",
    "        all_projects[project][eventt]=users\n",
    "        return all_projects \n",
    "    elif user not in all_projects[project][eventt].keys():\n",
    "        dates=defaultdict(dict)\n",
    "        dates[date]=1\n",
    "        all_projects[project][eventt][user]=dates\n",
    "        #print projects[project].keys()\n",
    "        return all_projects\n",
    "    elif date not in all_projects[project][eventt][user].keys():\n",
    "        dates=defaultdict(dict)\n",
    "        dates[date]=1\n",
    "        all_projects[project][eventt][user]=dates\n",
    "        return all_projects\n",
    "    else:\n",
    "        all_projects[project][eventt][user][date]+=1\n",
    "        return all_projects"
   ]
  },
  {
   "cell_type": "code",
   "execution_count": 259,
   "metadata": {
    "collapsed": true
   },
   "outputs": [],
   "source": [
    "def get_user_activity(user_activity, user, project, date, eventt):\n",
    "    if user not in user_activity.keys():\n",
    "        projects=defaultdict(dict)\n",
    "        events=defaultdict(dict)\n",
    "        dates=defaultdict(dict)\n",
    "        dates[date]=1\n",
    "        events[eventt]=dates\n",
    "        projects[project]=events\n",
    "        user_activity[user]=projects\n",
    "        return user_activity\n",
    "    elif project not in user_activity[user].keys():\n",
    "        events=defaultdict(dict)\n",
    "        dates=defaultdict(dict)\n",
    "        dates[date]=1\n",
    "        events[eventt]=dates\n",
    "        projects[project]=events\n",
    "        user_activity[user][project]=events\n",
    "        return user_activity \n",
    "    elif event not in user_activity[user][project].keys():\n",
    "        dates=defaultdict(dict)\n",
    "        dates[date]=1\n",
    "        events[eventt]=dates\n",
    "        user_activity[user][project][event]=dates\n",
    "        return user_activity\n",
    "    elif date not in user_activity[user][project][event].keys():\n",
    "        dates=defaultdict(dict)\n",
    "        dates[date]=1\n",
    "        user_activity[user][project][event]=dates\n",
    "        return user_activity\n",
    "    else:\n",
    "        user_activity[user][project][event][date]+=1\n",
    "        return user_activity"
   ]
  },
  {
   "cell_type": "code",
   "execution_count": 256,
   "metadata": {
    "collapsed": false
   },
   "outputs": [],
   "source": [
    "#TEST\n",
    "\"\"\"all_projects=defaultdict(dict)\n",
    "p_u=((1,30, datetime.date(2015, 12, 29), 'pd'), (2,30, datetime.date(2015, 12, 30), 'pd'), (1,20, datetime.date(2015, 12, 29), 'ab'), (1,20, datetime.date(2015, 12, 29), 'ab'))\n",
    "for (u, p, d, e) in p_u:\n",
    "    h=get_projects_dict(all_projects, u, p, d, e)\"\"\""
   ]
  },
  {
   "cell_type": "code",
   "execution_count": 257,
   "metadata": {
    "collapsed": true
   },
   "outputs": [],
   "source": [
    "def all_event_parser(event, date_file, follow_follower_network, all_projects, memberships, repo_memberships, users, user_activity):\n",
    "    et=event['type']\n",
    "    if et=='FollowEvent':\n",
    "        f,t=parse_follow_event(event)\n",
    "        follow_follower_network.append((f,t,date_file))\n",
    "        users.add(f)\n",
    "        users.add(t)\n",
    "    elif et=='MembershipEvent':\n",
    "        u,o,a=parse_membership_event(event)\n",
    "        memberships.append((u,o,a, date_file))\n",
    "        users.add(u)\n",
    "    elif et=='MemberEvent':\n",
    "        u,r,o,a=parse_member_event(event)\n",
    "        repo_memberships.append((u,r,o,a,date_file))\n",
    "        users.add(u)\n",
    "        users.add(o)\n",
    "    elif et=='PullRequestEvent' and event['payload']['action']=='closed':\n",
    "        if 'merged' in event ['payload']['pull_request']:\n",
    "            if event['payload']['pull_request']['merged']==True:\n",
    "                user, project, date=parse(event, date_file, True)\n",
    "                all_projects=get_projects_dict(all_projects, user, project, date, u'Closed_PullRequestEvent')\n",
    "                user_activitiy=get_user_activity(user_activity, user, project, date, et)\n",
    "                #return all_projects, follow_follower_network, memberships, repo_memberships, users\n",
    "    elif et not in ['GistEvent','GollumEvent','CreateEvent','DeleteEvent','MemberEvent']:\n",
    "        user, project, date=parse(event, date_file, False)\n",
    "        if user!='error':\n",
    "            all_projects=get_projects_dict(all_projects, user, project, date, et)\n",
    "            user_activity=get_user_activity(user_activity, user, project, date, et)\n",
    "    return all_projects, follow_follower_network, memberships, repo_memberships, users,user_activity"
   ]
  },
  {
   "cell_type": "code",
   "execution_count": 255,
   "metadata": {
    "collapsed": true
   },
   "outputs": [],
   "source": [
    "user_activtiy=defaultdict(dict)"
   ]
  },
  {
   "cell_type": "code",
   "execution_count": 260,
   "metadata": {
    "collapsed": false,
    "scrolled": true
   },
   "outputs": [
    {
     "name": "stdout",
     "output_type": "stream",
     "text": [
      "githubarchive_2011-02-12.json\n",
      "32197\n",
      "32197\n"
     ]
    },
    {
     "ename": "UnboundLocalError",
     "evalue": "local variable 'projects' referenced before assignment",
     "output_type": "error",
     "traceback": [
      "\u001b[0;31m---------------------------------------------------------------------------\u001b[0m",
      "\u001b[0;31mUnboundLocalError\u001b[0m                         Traceback (most recent call last)",
      "\u001b[0;32m<ipython-input-260-c083e3b12646>\u001b[0m in \u001b[0;36m<module>\u001b[0;34m()\u001b[0m\n\u001b[1;32m     22\u001b[0m                 \u001b[0mevent\u001b[0m\u001b[0;34m=\u001b[0m\u001b[0mjson\u001b[0m\u001b[0;34m.\u001b[0m\u001b[0mloads\u001b[0m\u001b[0;34m(\u001b[0m\u001b[0municode\u001b[0m\u001b[0;34m(\u001b[0m\u001b[0mlines\u001b[0m\u001b[0;34m[\u001b[0m\u001b[0mi\u001b[0m\u001b[0;34m]\u001b[0m\u001b[0;34m,\u001b[0m \u001b[0merrors\u001b[0m\u001b[0;34m=\u001b[0m\u001b[0;34m'ignore'\u001b[0m\u001b[0;34m)\u001b[0m\u001b[0;34m.\u001b[0m\u001b[0mstrip\u001b[0m\u001b[0;34m(\u001b[0m\u001b[0;34m)\u001b[0m\u001b[0;34m)\u001b[0m\u001b[0;34m\u001b[0m\u001b[0m\n\u001b[1;32m     23\u001b[0m                 \u001b[0mlast_event\u001b[0m\u001b[0;34m=\u001b[0m\u001b[0mevent\u001b[0m\u001b[0;34m\u001b[0m\u001b[0m\n\u001b[0;32m---> 24\u001b[0;31m                 \u001b[0mall_projects\u001b[0m\u001b[0;34m,\u001b[0m\u001b[0mfollow_follower_network\u001b[0m\u001b[0;34m,\u001b[0m \u001b[0mmemberships\u001b[0m\u001b[0;34m,\u001b[0m \u001b[0mrepo_memberships\u001b[0m\u001b[0;34m,\u001b[0m\u001b[0musers\u001b[0m\u001b[0;34m,\u001b[0m \u001b[0muser_activity\u001b[0m\u001b[0;34m=\u001b[0m\u001b[0mall_event_parser\u001b[0m\u001b[0;34m(\u001b[0m\u001b[0mevent\u001b[0m\u001b[0;34m,\u001b[0m \u001b[0mdate_file\u001b[0m\u001b[0;34m,\u001b[0m \u001b[0mfollow_follower_network\u001b[0m\u001b[0;34m,\u001b[0m \u001b[0mall_projects\u001b[0m\u001b[0;34m,\u001b[0m \u001b[0mmemberships\u001b[0m\u001b[0;34m,\u001b[0m \u001b[0mrepo_memberships\u001b[0m\u001b[0;34m,\u001b[0m \u001b[0musers\u001b[0m\u001b[0;34m,\u001b[0m \u001b[0muser_activity\u001b[0m\u001b[0;34m)\u001b[0m\u001b[0;34m\u001b[0m\u001b[0m\n\u001b[0m\u001b[1;32m     25\u001b[0m             \u001b[0;32mexcept\u001b[0m \u001b[0mValueError\u001b[0m\u001b[0;34m:\u001b[0m\u001b[0;34m\u001b[0m\u001b[0m\n\u001b[1;32m     26\u001b[0m                 \u001b[0mve\u001b[0m\u001b[0;34m+=\u001b[0m\u001b[0;36m1\u001b[0m\u001b[0;34m\u001b[0m\u001b[0m\n",
      "\u001b[0;32m<ipython-input-257-64727f9d440b>\u001b[0m in \u001b[0;36mall_event_parser\u001b[0;34m(event, date_file, follow_follower_network, all_projects, memberships, repo_memberships, users, user_activity)\u001b[0m\n\u001b[1;32m     26\u001b[0m         \u001b[0;32mif\u001b[0m \u001b[0muser\u001b[0m\u001b[0;34m!=\u001b[0m\u001b[0;34m'error'\u001b[0m\u001b[0;34m:\u001b[0m\u001b[0;34m\u001b[0m\u001b[0m\n\u001b[1;32m     27\u001b[0m             \u001b[0mall_projects\u001b[0m\u001b[0;34m=\u001b[0m\u001b[0mget_projects_dict\u001b[0m\u001b[0;34m(\u001b[0m\u001b[0mall_projects\u001b[0m\u001b[0;34m,\u001b[0m \u001b[0muser\u001b[0m\u001b[0;34m,\u001b[0m \u001b[0mproject\u001b[0m\u001b[0;34m,\u001b[0m \u001b[0mdate\u001b[0m\u001b[0;34m,\u001b[0m \u001b[0met\u001b[0m\u001b[0;34m)\u001b[0m\u001b[0;34m\u001b[0m\u001b[0m\n\u001b[0;32m---> 28\u001b[0;31m             \u001b[0muser_activity\u001b[0m\u001b[0;34m=\u001b[0m\u001b[0mget_user_activity\u001b[0m\u001b[0;34m(\u001b[0m\u001b[0muser_activity\u001b[0m\u001b[0;34m,\u001b[0m \u001b[0muser\u001b[0m\u001b[0;34m,\u001b[0m \u001b[0mproject\u001b[0m\u001b[0;34m,\u001b[0m \u001b[0mdate\u001b[0m\u001b[0;34m,\u001b[0m \u001b[0met\u001b[0m\u001b[0;34m)\u001b[0m\u001b[0;34m\u001b[0m\u001b[0m\n\u001b[0m\u001b[1;32m     29\u001b[0m     \u001b[0;32mreturn\u001b[0m \u001b[0mall_projects\u001b[0m\u001b[0;34m,\u001b[0m \u001b[0mfollow_follower_network\u001b[0m\u001b[0;34m,\u001b[0m \u001b[0mmemberships\u001b[0m\u001b[0;34m,\u001b[0m \u001b[0mrepo_memberships\u001b[0m\u001b[0;34m,\u001b[0m \u001b[0musers\u001b[0m\u001b[0;34m,\u001b[0m\u001b[0muser_activity\u001b[0m\u001b[0;34m\u001b[0m\u001b[0m\n",
      "\u001b[0;32m<ipython-input-259-c3f0afe663ed>\u001b[0m in \u001b[0;36mget_user_activity\u001b[0;34m(user_activity, user, project, date, eventt)\u001b[0m\n\u001b[1;32m     14\u001b[0m         \u001b[0mdates\u001b[0m\u001b[0;34m[\u001b[0m\u001b[0mdate\u001b[0m\u001b[0;34m]\u001b[0m\u001b[0;34m=\u001b[0m\u001b[0;36m1\u001b[0m\u001b[0;34m\u001b[0m\u001b[0m\n\u001b[1;32m     15\u001b[0m         \u001b[0mevents\u001b[0m\u001b[0;34m[\u001b[0m\u001b[0meventt\u001b[0m\u001b[0;34m]\u001b[0m\u001b[0;34m=\u001b[0m\u001b[0mdates\u001b[0m\u001b[0;34m\u001b[0m\u001b[0m\n\u001b[0;32m---> 16\u001b[0;31m         \u001b[0mprojects\u001b[0m\u001b[0;34m[\u001b[0m\u001b[0mproject\u001b[0m\u001b[0;34m]\u001b[0m\u001b[0;34m=\u001b[0m\u001b[0mevents\u001b[0m\u001b[0;34m\u001b[0m\u001b[0m\n\u001b[0m\u001b[1;32m     17\u001b[0m         \u001b[0muser_activity\u001b[0m\u001b[0;34m[\u001b[0m\u001b[0muser\u001b[0m\u001b[0;34m]\u001b[0m\u001b[0;34m[\u001b[0m\u001b[0mproject\u001b[0m\u001b[0;34m]\u001b[0m\u001b[0;34m=\u001b[0m\u001b[0mevents\u001b[0m\u001b[0;34m\u001b[0m\u001b[0m\n\u001b[1;32m     18\u001b[0m         \u001b[0;32mreturn\u001b[0m \u001b[0muser_activity\u001b[0m\u001b[0;34m\u001b[0m\u001b[0m\n",
      "\u001b[0;31mUnboundLocalError\u001b[0m: local variable 'projects' referenced before assignment"
     ]
    }
   ],
   "source": [
    "all_projects=defaultdict(dict)\n",
    "user_activity=defaultdict(dict)\n",
    "follow_follower_network=[]\n",
    "memberships=[]\n",
    "repo_memberships=[]\n",
    "users=set()\n",
    "path=os.getcwd()\n",
    "files=sorted([i for i in os.listdir(path) if i.startswith(\"githubarchive\")])\n",
    "ve=0\n",
    "for f in files[0:1]:\n",
    "    print f\n",
    "    with open(f, 'r') as myfile:\n",
    "        data=myfile.read()\n",
    "        date_file=date_from_filename(f)\n",
    "        lines=data.splitlines()\n",
    "        print len(lines)\n",
    "        for i in range(0,len(lines)):\n",
    "            last_line=lines[i]\n",
    "            if i%100000==0:\n",
    "                print len(lines)-i\n",
    "            try:\n",
    "                event=json.loads(unicode(lines[i], errors='ignore').strip())\n",
    "                last_event=event\n",
    "                all_projects,follow_follower_network, memberships, repo_memberships,users, user_activity=all_event_parser(event, date_file, follow_follower_network, all_projects, memberships, repo_memberships, users, user_activity)\n",
    "            except ValueError:\n",
    "                ve+=1\n",
    "                print ve\n",
    "                all_projects,follow_follower_network, memberships, repo_memberships, users, user_activity=all_event_parser(event, date_file, follow_follower_network, all_projects, memberships, repo_memberships, users, user_activity)"
   ]
  }
 ],
 "metadata": {
  "kernelspec": {
   "display_name": "Python [Root]",
   "language": "python",
   "name": "Python [Root]"
  },
  "language_info": {
   "codemirror_mode": {
    "name": "ipython",
    "version": 2
   },
   "file_extension": ".py",
   "mimetype": "text/x-python",
   "name": "python",
   "nbconvert_exporter": "python",
   "pygments_lexer": "ipython2",
   "version": "2.7.12"
  }
 },
 "nbformat": 4,
 "nbformat_minor": 0
}
