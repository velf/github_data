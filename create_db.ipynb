{
 "cells": [
  {
   "cell_type": "code",
   "execution_count": 73,
   "metadata": {
    "collapsed": true
   },
   "outputs": [],
   "source": [
    "import sys\n",
    "import os\n",
    "import math\n",
    "import pprint\n",
    "import json\n",
    "import sqlite3\n",
    "import dateutil\n",
    "from dateutil.parser import *\n",
    "import time\n",
    "import datetime\n",
    "from os import listdir\n",
    "from os.path import isfile, join"
   ]
  },
  {
   "cell_type": "code",
   "execution_count": 123,
   "metadata": {
    "collapsed": true
   },
   "outputs": [],
   "source": [
    "#dbpath = \"/mnt/cns_storage/home/vorsi/derived\"\n",
    "#dbname = 'githubarchive_full.db'\n",
    "#datapath = '/mnt/cns_storage/home/github_shared/data/raw'\n",
    "\n",
    "\n",
    "dbpath = ''\n",
    "dbname = 'githubarchive_full2.sqlite'\n",
    "datapath = os.getcwd()\n"
   ]
  },
  {
   "cell_type": "code",
   "execution_count": 124,
   "metadata": {
    "collapsed": true
   },
   "outputs": [],
   "source": [
    "def main():\n",
    "    build_repository()\n",
    "    build_push()\n",
    "    build_watch()\n",
    "    build_follow()\n",
    "    build_pulled_request_merged()\n",
    "    build_pulled_request()\n",
    "    build_memberadd()\n",
    "    build_membership()"
   ]
  },
  {
   "cell_type": "code",
   "execution_count": 132,
   "metadata": {
    "collapsed": true
   },
   "outputs": [],
   "source": [
    "def build_repository():\n",
    "    # Create table\n",
    "    conn = sqlite3.connect(dbname)\n",
    "    c = conn.cursor()\n",
    "    c.execute('''DROP TABLE IF EXISTS repository''')\n",
    "    c.execute('''CREATE TABLE IF NOT EXISTS repository\n",
    "                 (repositoryid INTEGER PRIMARY KEY, repositoryname TEXT, userlogin TEXT, created_at INTEGER, language TEXT, description TEXT, url TEXT, fork INTEGER)''')\n",
    "    conn.commit()\n",
    "    conn.close()"
   ]
  },
  {
   "cell_type": "code",
   "execution_count": 133,
   "metadata": {
    "collapsed": true
   },
   "outputs": [],
   "source": [
    "def build_push():\n",
    "    # Create table\n",
    "    conn = sqlite3.connect(dbpath + dbname)\n",
    "    c = conn.cursor()\n",
    "    c.execute('''DROP TABLE IF EXISTS push''')\n",
    "    c.execute('''CREATE TABLE IF NOT EXISTS push\n",
    "                 (pushed_at INTEGER, repositoryid INTEGER, userlogin TEXT)''')\n",
    "    conn.commit()\n",
    "    conn.close()"
   ]
  },
  {
   "cell_type": "code",
   "execution_count": 134,
   "metadata": {
    "collapsed": true
   },
   "outputs": [],
   "source": [
    "def build_watch():\n",
    "    # Create table\n",
    "    conn = sqlite3.connect(dbpath + dbname)\n",
    "    c = conn.cursor()\n",
    "    c.execute('''DROP TABLE IF EXISTS watch''')\n",
    "    c.execute('''CREATE TABLE IF NOT EXISTS watch\n",
    "                 (watched_at INTEGER, repositoryid INTEGER, byuserlogin TEXT)''')\n",
    "    conn.commit()\n",
    "    conn.close()"
   ]
  },
  {
   "cell_type": "code",
   "execution_count": 135,
   "metadata": {
    "collapsed": true
   },
   "outputs": [],
   "source": [
    "def build_pulled_request_merged():\n",
    "    # Create table\n",
    "    conn = sqlite3.connect(dbpath + dbname)\n",
    "    c = conn.cursor()\n",
    "    c.execute('''DROP TABLE IF EXISTS pulled_request_merged''')\n",
    "    c.execute('''CREATE TABLE IF NOT EXISTS push\n",
    "                 (merged_at INTEGER, repositoryid INTEGER, userlogin TEXT)''')\n",
    "    conn.commit()\n",
    "    conn.close()"
   ]
  },
  {
   "cell_type": "code",
   "execution_count": null,
   "metadata": {
    "collapsed": true
   },
   "outputs": [],
   "source": [
    "def build_pulled_request():\n",
    "    # Create table\n",
    "    conn = sqlite3.connect(dbpath + dbname)\n",
    "    c = conn.cursor()\n",
    "    c.execute('''DROP TABLE IF EXISTS pulled_request''')\n",
    "    c.execute('''CREATE TABLE IF NOT EXISTS push\n",
    "                 (created_at INTEGER, repositoryid INTEGER, userlogin TEXT)''')\n",
    "    conn.commit()\n",
    "    conn.close()"
   ]
  },
  {
   "cell_type": "code",
   "execution_count": 136,
   "metadata": {
    "collapsed": true
   },
   "outputs": [],
   "source": [
    "def build_memberadd():\n",
    "    # Create table\n",
    "    conn = sqlite3.connect(dbpath + dbname)\n",
    "    c = conn.cursor()\n",
    "    c.execute('''DROP TABLE IF EXISTS memberadd''')\n",
    "    c.execute('''CREATE TABLE IF NOT EXISTS memberadd\n",
    "                 (added_at INTEGER, repositoryid INTEGER, userlogin TEXT, byuserlogin TEXT)''')\n",
    "    conn.commit()\n",
    "    conn.close()"
   ]
  },
  {
   "cell_type": "code",
   "execution_count": null,
   "metadata": {
    "collapsed": true
   },
   "outputs": [],
   "source": [
    "def build_membership():\n",
    "    # Create table\n",
    "    conn = sqlite3.connect(dbpath + dbname)\n",
    "    c = conn.cursor()\n",
    "    c.execute('''DROP TABLE IF EXISTS membership''')\n",
    "    c.execute('''CREATE TABLE IF NOT EXISTS memberadd\n",
    "                 (added_at TEXT, repositoryid INTEGER, userlogin TEXT, byuserlogin TEXT)''')\n",
    "    conn.commit()\n",
    "    conn.close()"
   ]
  },
  {
   "cell_type": "code",
   "execution_count": 137,
   "metadata": {
    "collapsed": true
   },
   "outputs": [],
   "source": [
    "def build_follow():\n",
    "    # Create table\n",
    "    conn = sqlite3.connect(dbpath + dbname)\n",
    "    c = conn.cursor()\n",
    "    c.execute('''DROP TABLE IF EXISTS follow''')\n",
    "    c.execute('''CREATE TABLE IF NOT EXISTS follow\n",
    "                 (followed_at INTEGER, targetuserlogin TEXT, byuserlogin TEXT)''')\n",
    "    conn.commit()\n",
    "    conn.close()"
   ]
  },
  {
   "cell_type": "code",
   "execution_count": null,
   "metadata": {
    "collapsed": true
   },
   "outputs": [],
   "source": [
    "def build_fork():\n",
    "    # Create table\n",
    "    conn = sqlite3.connect(dbpath + dbname)\n",
    "    c = conn.cursor()\n",
    "    c.execute('''DROP TABLE IF EXISTS fork''')\n",
    "    c.execute('''CREATE TABLE IF NOT EXISTS fork\n",
    "                 (forked_at INTEGER, targetrepoid INTEGER, byuserlogin TEXT)''')\n",
    "    conn.commit()\n",
    "    conn.close()"
   ]
  },
  {
   "cell_type": "code",
   "execution_count": 138,
   "metadata": {
    "collapsed": true
   },
   "outputs": [],
   "source": [
    "def build_star():\n",
    "    # Create table\n",
    "    conn = sqlite3.connect(dbpath + dbname)\n",
    "    c = conn.cursor()\n",
    "    c.execute('''DROP TABLE IF EXISTS star''')\n",
    "    c.execute('''CREATE TABLE IF NOT EXISTS star\n",
    "                 (starred_at INTEGER, targetrepoid INTEGER, byuserlogin TEXT)''')\n",
    "    conn.commit()\n",
    "    conn.close()"
   ]
  },
  {
   "cell_type": "code",
   "execution_count": 139,
   "metadata": {
    "collapsed": true
   },
   "outputs": [],
   "source": [
    "if __name__ == '__main__':\n",
    "    main()"
   ]
  },
  {
   "cell_type": "code",
   "execution_count": 141,
   "metadata": {
    "collapsed": true
   },
   "outputs": [],
   "source": [
    "def date_from_json(creation_date):\n",
    "    dt = datetime.datetime.strptime(creation_date[:10], '%Y-%m-%d')\n",
    "    return dt.strftime('%Y-%m-%d')"
   ]
  },
  {
   "cell_type": "code",
   "execution_count": 146,
   "metadata": {
    "collapsed": true
   },
   "outputs": [],
   "source": [
    "def date_from_filename(fname):\n",
    "    dt = datetime.datetime.strptime(fname[len('githubarchive_'):-len('.json')], '%Y-%m-%d')\n",
    "    return dt.strftime('%Y-%m')"
   ]
  },
  {
   "cell_type": "code",
   "execution_count": 142,
   "metadata": {
    "collapsed": true
   },
   "outputs": [],
   "source": [
    "def parse(event, date_f, merging_matter):\n",
    "    #print event['type']\n",
    "    if type(event)==dict:\n",
    "        if 'repo' in event.keys(): \n",
    "            #print'k'\n",
    "            if 'id' in event['repo'].keys():\n",
    "                #print 'id in repo'\n",
    "                if merging_matter==False:\n",
    "                    d=date_f\n",
    "                    if 'user' in event.keys():\n",
    "                        if event['user']['type']=='User':\n",
    "                            u=event['user']['login']\n",
    "                            p=event['repo']['id']\n",
    "                            return (u, p, d)\n",
    "                    elif 'actor' in event.keys():\n",
    "                        if 'login' in event['actor'].keys():\n",
    "                            u=event['actor']['login']\n",
    "                            p=event['repo']['id']\n",
    "                            return (u, p, d)\n",
    "                        elif 'payload' in event.keys():\n",
    "                            if 'actor' in event['payload'].keys():\n",
    "                                u=event['payload']['actor']\n",
    "                                p=event['repo']['id']\n",
    "                                return (u, p, d)\n",
    "                elif merging_matter==True:\n",
    "                    d=date_from_json(event['payload']['pull_request']['created_at'][:10])\n",
    "                    #print d\n",
    "                    if 'user' in event.keys():\n",
    "                        #print event.keys()\n",
    "                        if event['user']['type']=='User':\n",
    "                            u=event['user']['login']\n",
    "                            p=event['repo']['id']\n",
    "                            return (u, p, d)      \n",
    "                    elif 'actor' in event.keys():\n",
    "                        u=event['actor']['login']\n",
    "                        p=event['repo']['id']\n",
    "                        return (u, p, d)\n",
    "            else:\n",
    "                return ('error' ,_,_)\n",
    "        elif 'repository' in event.keys():\n",
    "            u=event['actor']\n",
    "            p=event['repository']['id']\n",
    "            d=date_f\n",
    "            return (u, p, d)\n",
    "        else:\n",
    "            return ('error' ,_,_)"
   ]
  },
  {
   "cell_type": "code",
   "execution_count": 143,
   "metadata": {
    "collapsed": true
   },
   "outputs": [],
   "source": [
    "def parse_follow_event(event):\n",
    "    if type(event['actor'])==dict:\n",
    "        f=event['payload']['actor']\n",
    "        t=event['payload']['target']['login']\n",
    "    else:\n",
    "        f=event['actor']\n",
    "        t=event['payload']['target']['login']\n",
    "    return (f,t)"
   ]
  },
  {
   "cell_type": "code",
   "execution_count": 144,
   "metadata": {
    "collapsed": true
   },
   "outputs": [],
   "source": [
    "def parse_membership_event(event):\n",
    "    u=event['actor']['login']\n",
    "    o=event['org']['login']\n",
    "    a=event['payload']['action']\n",
    "    return (u,o,a) "
   ]
  },
  {
   "cell_type": "code",
   "execution_count": 145,
   "metadata": {
    "collapsed": true
   },
   "outputs": [],
   "source": [
    "def parse_member_event(event):\n",
    "    if 'repo' not in event.keys():\n",
    "        u=event['actor']\n",
    "        r=event['repository']['name']\n",
    "        o=event['repository']['owner']\n",
    "        a=event['payload']['action']\n",
    "        return (u,r,o,a) \n",
    "    elif type(event['payload']['member'])==dict:\n",
    "        u=event['payload']['member']['login']\n",
    "        r=event['repo']['name']\n",
    "        o=event['actor']['login']\n",
    "        a=event['payload']['action']\n",
    "    else:\n",
    "        u=event['payload']['member']\n",
    "        r=event['repo']['name']\n",
    "        o=event['payload']['actor']\n",
    "        a=event['payload']['action']\n",
    "        return (u,r,o,a)         "
   ]
  },
  {
   "cell_type": "code",
   "execution_count": null,
   "metadata": {
    "collapsed": true
   },
   "outputs": [],
   "source": [
    "def parse_create_event(event):\n",
    "    if event['payload'].get('object')=='repository' and event['repo'].get('id'):\n",
    "        repo_name=event['payload'].get('name')\n",
    "        repoid=event['repo']['id']\n",
    "        created_at=date_from_json(event.get('created_at'))\n",
    "        user=event['actor']['login']\n",
    "        description=''\n",
    "        return repo_name, repoid, created_at, user, description\n",
    "    elif event.get('payload') and event['payload'].get('ref_type')=='repository' and event.get('repository'):\n",
    "        repo_name=event['repository']['name']\n",
    "        repoid=event['repository']['id']\n",
    "        created_at=date_from_json(event['repository'].get('created_at'))\n",
    "        user=event['actor']\n",
    "        description=event['payload'].get('description')\n",
    "        return repo_name, repoid, created_at, user, description"
   ]
  },
  {
   "cell_type": "code",
   "execution_count": null,
   "metadata": {
    "collapsed": true
   },
   "outputs": [],
   "source": [
    "def all_event_parser(event, date_file):\n",
    "    et=event['type']\n",
    "    if et=='CreateEvent':\n",
    "        query = 'INSERT OR REPLACE INTO repository VALUES (?,?,?,?,?,?,?,?)'\n",
    "        c.execute(query, (jsonline[\"repository\"].get(\"id\"), jsonline[\"repository\"].get(\"name\"), jsonline[\"actor_attributes\"].get(\"gravatar_id\"), jsonline[\"repository\"][\"created_at\"], jsonline[\"repository\"].get(\"language\"), jsonline[\"repository\"].get(\"description\"), jsonline[\"repository\"].get(\"url\"), jsonline[\"repository\"].get(\"fork\")))\n",
    "        i = i+1\n",
    "    elif et=='FollowEvent':\n",
    "        f,t=parse_follow_event(event)\n",
    "        follow_follower_network.append((f,t,date_file))\n",
    "        users.add(f)\n",
    "        users.add(t)\n",
    "    elif et=='MembershipEvent':\n",
    "        u,o,a=parse_membership_event(event)\n",
    "        memberships.append((u,o,a, date_file))\n",
    "        users.add(u)\n",
    "    elif et=='MemberEvent':\n",
    "        u,r,o,a=parse_member_event(event)\n",
    "        repo_memberships.append((u,r,o,a,date_file))\n",
    "        users.add(u)\n",
    "        users.add(o)\n",
    "    elif et=='PullRequestEvent' and event['payload']['action']=='closed':\n",
    "        if 'merged' in event ['payload']['pull_request']:\n",
    "            if event['payload']['pull_request']['merged']==True:\n",
    "                user, project, date=parse(event, date_file, True)\n",
    "                all_projects=get_projects_dict(all_projects, user, project, date, u'Closed_PullRequestEvent')\n",
    "                user_activitiy=get_user_activity(user_activity, user, project, date, et)\n",
    "                #return all_projects, follow_follower_network, memberships, repo_memberships, users\n",
    "    elif et not in ['GistEvent','GollumEvent','DeleteEvent','MemberEvent']:\n",
    "        user, project, date=parse(event, date_file, False)\n",
    "        if user!='error':\n",
    "            all_projects=get_projects_dict(all_projects, user, project, date, et)\n",
    "            user_activity=get_user_activity(user_activity, user, project, date, et)\n",
    "    return all_projects, follow_follower_network, memberships, repo_memberships, users,user_activity"
   ]
  },
  {
   "cell_type": "code",
   "execution_count": 140,
   "metadata": {
    "collapsed": false
   },
   "outputs": [],
   "source": [
    "#filenames = [ f for f in listdir(datapath) if isfile(join(datapath,f)) ]\n",
    "filenames=sorted([i for i in os.listdir(datapath) if i.startswith(\"githubarchive_2011\") and i.endswith('json')])"
   ]
  },
  {
   "cell_type": "code",
   "execution_count": null,
   "metadata": {
    "collapsed": true
   },
   "outputs": [],
   "source": []
  },
  {
   "cell_type": "code",
   "execution_count": 130,
   "metadata": {
    "collapsed": false
   },
   "outputs": [
    {
     "name": "stdout",
     "output_type": "stream",
     "text": [
      "32197 0\n",
      "32197 10000\n",
      "32197 20000\n",
      "32197 30000\n",
      "Done file githubarchive_2013-02-27.json. Found and inserted 32196 valid CreationEvents.\n",
      "39281 0\n",
      "39281 10000\n",
      "39281 20000\n",
      "39281 30000\n",
      "Done file githubarchive_2013-02-27.json. Found and inserted 39280 valid CreationEvents.\n",
      "44180 0\n",
      "44180 10000\n",
      "44180 20000\n",
      "44180 30000\n",
      "44180 40000\n",
      "Done file githubarchive_2013-02-27.json. Found and inserted 44179 valid CreationEvents.\n",
      "49698 0\n",
      "49698 10000\n",
      "49698 20000\n",
      "49698 30000\n",
      "49698 40000\n",
      "Done file githubarchive_2013-02-27.json. Found and inserted 49697 valid CreationEvents.\n",
      "47410 0\n",
      "47410 10000\n",
      "47410 20000\n",
      "47410 30000\n",
      "47410 40000\n",
      "Done file githubarchive_2013-02-27.json. Found and inserted 47409 valid CreationEvents.\n",
      "49694 0\n",
      "49694 10000\n",
      "49694 20000\n",
      "49694 30000\n",
      "49694 40000\n",
      "Done file githubarchive_2013-02-27.json. Found and inserted 49693 valid CreationEvents.\n",
      "56858 0\n",
      "56858 10000\n",
      "56858 20000\n",
      "56858 30000\n",
      "56858 40000\n",
      "56858 50000\n",
      "Done file githubarchive_2013-02-27.json. Found and inserted 56857 valid CreationEvents.\n",
      "51033 0\n",
      "51033 10000\n",
      "51033 20000\n",
      "51033 30000\n",
      "51033 40000\n",
      "51033 50000\n",
      "Done file githubarchive_2013-02-27.json. Found and inserted 51032 valid CreationEvents.\n",
      "50703 0\n",
      "50703 10000\n",
      "50703 20000\n",
      "50703 30000\n",
      "50703 40000\n",
      "50703 50000\n",
      "Done file githubarchive_2013-02-27.json. Found and inserted 50702 valid CreationEvents.\n"
     ]
    }
   ],
   "source": [
    "for f in filenames:\n",
    "    conn = sqlite3.connect(dbpath + dbname)\n",
    "    c = conn.cursor()\n",
    "    i = 0\n",
    "    with open(os.path.join(dbpath,f), 'r') as myfile:\n",
    "            data=myfile.read()\n",
    "            date_file=date_from_filename(f)\n",
    "            lines=data.splitlines()\n",
    "            for i in range(0,len(lines)):\n",
    "                if i%10000==0:\n",
    "                    print len(lines), i\n",
    "            try:\n",
    "                jsonline=json.loads(unicode(lines[i], errors='ignore').strip())\n",
    "                et=jsonline['type']\n",
    "                if jsonline.get(\"type\") == \"CreateEvent\"and jsonline.get(\"repository\") and jsonline.get(\"payload\") and jsonline.get(\"actor_attributes\") and jsonline[\"payload\"].get(\"ref_type\") == \"repository\" and jsonline[\"repository\"].get(\"id\"): # we need to have the id\n",
    "                    # Time format to be parsed: 2012-10-26T23:23:47-07:00\n",
    "                    jsonline[\"repository\"][\"created_at\"] = int(round(time.mktime(dateutil.parser.parse(jsonline[\"repository\"][\"created_at\"]).timetuple())))\n",
    "                    query = 'INSERT OR REPLACE INTO repository VALUES (?,?,?,?,?,?,?,?)'\n",
    "                    c.execute(query, (jsonline[\"repository\"].get(\"id\"), jsonline[\"repository\"].get(\"name\"), jsonline[\"actor_attributes\"].get(\"gravatar_id\"), jsonline[\"repository\"][\"created_at\"], jsonline[\"repository\"].get(\"language\"), jsonline[\"repository\"].get(\"description\"), jsonline[\"repository\"].get(\"url\"), jsonline[\"repository\"].get(\"fork\")))\n",
    "                    i = i+1\n",
    "            except ValueError:\n",
    "                for k in ['{\"repo\"'+line for line in lines[i].split('{\"repo\"')[1:]]:\n",
    "                    jsonline=json.loads(k)\n",
    "                    et=jsonline['type']\n",
    "                    if jsonline.get(\"type\") == \"CreateEvent\" and jsonline.get(\"repository\") and jsonline.get(\"payload\") and jsonline.get(\"actor_attributes\") and jsonline[\"payload\"].get(\"ref_type\") == \"repository\" and jsonline[\"repository\"].get(\"id\"): # we need to have the id\n",
    "                        # Time format to be parsed: 2012-10-26T23:23:47-07:00\n",
    "                        jsonline[\"repository\"][\"created_at\"] = int(round(time.mktime(dateutil.parser.parse(jsonline[\"repository\"][\"created_at\"]).timetuple())))\n",
    "                        query = 'INSERT OR REPLACE INTO repository VALUES (?,?,?,?,?,?,?,?)'\n",
    "                        c.execute(query, (jsonline[\"repository\"].get(\"id\"), jsonline[\"repository\"].get(\"name\"), jsonline[\"actor_attributes\"].get(\"gravatar_id\"), jsonline[\"repository\"][\"created_at\"], jsonline[\"repository\"].get(\"language\"), jsonline[\"repository\"].get(\"description\"), jsonline[\"repository\"].get(\"url\"), jsonline[\"repository\"].get(\"fork\")))\n",
    "                        i = i+1\n",
    "            print \"Done file \" + filename + \". Found and inserted \" + str(i) + \" valid CreationEvents.\"\n",
    "            conn.commit()\n",
    "            conn.close()"
   ]
  },
  {
   "cell_type": "code",
   "execution_count": 120,
   "metadata": {
    "collapsed": false
   },
   "outputs": [
    {
     "data": {
      "text/plain": [
       "{u'actor': {u'avatar_url': u'https://secure.gravatar.com/avatar/5df5f29da54fbebf5d0318e7aa772fce?d=http://github.dev%2Fimages%2Fgravatars%2Fgravatar-user-420.png',\n",
       "  u'gravatar_id': u'5df5f29da54fbebf5d0318e7aa772fce',\n",
       "  u'id': 175425,\n",
       "  u'login': u'oincex',\n",
       "  u'url': u'https://api.github.dev/users/oincex'},\n",
       " u'created_at': u'2011-04-08T23:59:51Z',\n",
       " u'id': u'1240963541',\n",
       " u'payload': {u'name': u'oincex',\n",
       "  u'object': u'repository',\n",
       "  u'object_name': None},\n",
       " u'public': True,\n",
       " u'repo': {u'name': u'/', u'url': u'https://api.github.dev/repos//'},\n",
       " u'type': u'CreateEvent'}"
      ]
     },
     "execution_count": 120,
     "metadata": {},
     "output_type": "execute_result"
    }
   ],
   "source": [
    "for f in filenames:\n",
    "    conn = sqlite3.connect(dbpath + dbname)\n",
    "    c = conn.cursor()\n",
    "    i = 0\n",
    "    with open(os.path.join(dbpath,f), 'r') as myfile:\n",
    "            data=myfile.read()\n",
    "            lines=data.splitlines()\n",
    "            for i in range(0,len(lines)):\n",
    "                if i%10000==0:\n",
    "                    print len(lines), i\n",
    "            try:\n",
    "                jsonline=json.loads(unicode(lines[i], errors='ignore').strip())\n",
    "                if jsonline.get(\"type\") == \"CreateEvent\"and jsonline.get(\"repository\") and jsonline.get(\"payload\") and jsonline.get(\"actor_attributes\") and jsonline[\"payload\"].get(\"ref_type\") == \"repository\" and jsonline[\"repository\"].get(\"id\"): # we need to have the id\n",
    "                    # Time format to be parsed: 2012-10-26T23:23:47-07:00\n",
    "                    jsonline[\"repository\"][\"created_at\"] = int(round(time.mktime(dateutil.parser.parse(jsonline[\"repository\"][\"created_at\"]).timetuple())))\n",
    "                    query = 'INSERT OR REPLACE INTO repository VALUES (?,?,?,?,?,?,?,?)'\n",
    "                    c.execute(query, (jsonline[\"repository\"].get(\"id\"), jsonline[\"repository\"].get(\"name\"), jsonline[\"actor_attributes\"].get(\"gravatar_id\"), jsonline[\"repository\"][\"created_at\"], jsonline[\"repository\"].get(\"language\"), jsonline[\"repository\"].get(\"description\"), jsonline[\"repository\"].get(\"url\"), jsonline[\"repository\"].get(\"fork\")))\n",
    "                    i = i+1\n",
    "            except ValueError:\n",
    "                for k in ['{\"repo\"'+line for line in lines[i].split('{\"repo\"')[1:]]:\n",
    "                    jsonline=json.loads(k)\n",
    "                    if jsonline.get(\"type\") == \"CreateEvent\" and jsonline.get(\"repository\") and jsonline.get(\"payload\") and jsonline.get(\"actor_attributes\") and jsonline[\"payload\"].get(\"ref_type\") == \"repository\" and jsonline[\"repository\"].get(\"id\"): # we need to have the id\n",
    "                        # Time format to be parsed: 2012-10-26T23:23:47-07:00\n",
    "                        jsonline[\"repository\"][\"created_at\"] = int(round(time.mktime(dateutil.parser.parse(jsonline[\"repository\"][\"created_at\"]).timetuple())))\n",
    "                        query = 'INSERT OR REPLACE INTO repository VALUES (?,?,?,?,?,?,?,?)'\n",
    "                        c.execute(query, (jsonline[\"repository\"].get(\"id\"), jsonline[\"repository\"].get(\"name\"), jsonline[\"actor_attributes\"].get(\"gravatar_id\"), jsonline[\"repository\"][\"created_at\"], jsonline[\"repository\"].get(\"language\"), jsonline[\"repository\"].get(\"description\"), jsonline[\"repository\"].get(\"url\"), jsonline[\"repository\"].get(\"fork\")))\n",
    "                        i = i+1\n",
    "            print \"Done file \" + filename + \". Found and inserted \" + str(i) + \" valid CreationEvents.\"\n",
    "            conn.commit()\n",
    "            conn.close()"
   ]
  },
  {
   "cell_type": "code",
   "execution_count": 82,
   "metadata": {
    "collapsed": false
   },
   "outputs": [
    {
     "name": "stdout",
     "output_type": "stream",
     "text": [
      "2014-03_all_projects.json           githubarchive_2011-02-14.json\r\n",
      "2014-03_follow_follower_network.csv githubarchive_2011-03-14.json\r\n",
      "2014-03_memberships.csv             githubarchive_2011-03-15.json\r\n",
      "2014-03_repo_memberships.csv        githubarchive_2011-03-28.json\r\n",
      "2014-03_user_activity.json          githubarchive_2011-03-30.json\r\n",
      "2014-03_users.csv                   githubarchive_2011-04-06.json\r\n",
      "Analyse_users.ipynb                 githubarchive_2011-04-08.json\r\n",
      "Untitled.ipynb                      githubarchive_2013-02-27.json\r\n",
      "clean_code.py                       githubarchive_2014-03-04.json\r\n",
      "create_db.ipynb                     githubarchive_2015-12-29.json\r\n",
      "database_creation.ipynb             githubarchive_full.db\r\n",
      "database_creation.py                githubarchive_full.sqlite\r\n",
      "date_id_repos.json                  githubarchivedownloader.py\r\n",
      "\u001b[34mdiversity-master\u001b[m\u001b[m                    learn_sql.ipynb\r\n",
      "emailtome.py                        names.json\r\n",
      "emailtome.pyc                       new_code_for_aggregation.ipynb\r\n",
      "githubarchive_2011-02-12.json       new_structure_data.ipynb\r\n",
      "githubarchive_2011-02-13.json       test_datacreation.py\r\n"
     ]
    }
   ],
   "source": [
    "!ls"
   ]
  },
  {
   "cell_type": "code",
   "execution_count": 83,
   "metadata": {
    "collapsed": false
   },
   "outputs": [
    {
     "name": "stdout",
     "output_type": "stream",
     "text": [
      "cat: githubarchive_full: No such file or directory\r\n"
     ]
    }
   ],
   "source": [
    "! cat githubarchive_full"
   ]
  },
  {
   "cell_type": "code",
   "execution_count": null,
   "metadata": {
    "collapsed": true
   },
   "outputs": [],
   "source": []
  }
 ],
 "metadata": {
  "kernelspec": {
   "display_name": "Python [Root]",
   "language": "python",
   "name": "Python [Root]"
  },
  "language_info": {
   "codemirror_mode": {
    "name": "ipython",
    "version": 2
   },
   "file_extension": ".py",
   "mimetype": "text/x-python",
   "name": "python",
   "nbconvert_exporter": "python",
   "pygments_lexer": "ipython2",
   "version": "2.7.12"
  }
 },
 "nbformat": 4,
 "nbformat_minor": 0
}
